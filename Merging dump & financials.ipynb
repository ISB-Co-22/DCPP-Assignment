{
 "cells": [
  {
   "cell_type": "code",
   "execution_count": 2,
   "id": "ad485256",
   "metadata": {},
   "outputs": [],
   "source": [
    "import pandas as pd\n",
    "import numpy as np"
   ]
  },
  {
   "cell_type": "code",
   "execution_count": 3,
   "id": "24e658cd",
   "metadata": {},
   "outputs": [],
   "source": [
    "#Reading two files\n",
    "df1 = pd.read_excel(\"D:/Residency 1/DCPP/Stocks_dump.xlsx\")\n",
    "df2 = pd.read_excel(\"D:/Residency 1/DCPP/Financials.xlsx\")"
   ]
  },
  {
   "cell_type": "code",
   "execution_count": 4,
   "id": "0cc24da7",
   "metadata": {
    "scrolled": true
   },
   "outputs": [],
   "source": [
    "#Merging two files with required content\n",
    "\n",
    "df3 = df1[[\"Company\",\"ISIN\",\"Sector\",\"Industry\",\"52 Week Low\",\"52 Week High\",\"All Time Low\",\"All Time High\",\"Market CapCR\",\"1-Year Return\",\"Price to Earnings\",\"Price to Book\",\"Earning Per Share\"]].merge(df2[[\"Ticker\",\"ISIN\",\"5Y Historical Revenue Growth%\",\"Promoter Holding%\",\"Pledged Promoter Holdings\",\"Rating agency with buy reco\",\"Volatility\",\"Total Debt\",\"Free Cash Flow\",\"Total Revenue\"]], on = \"ISIN\", how = \"left\")"
   ]
  },
  {
   "cell_type": "code",
   "execution_count": 5,
   "id": "ee7ca482",
   "metadata": {},
   "outputs": [
    {
     "data": {
      "text/plain": [
       "Index(['Company', 'ISIN', 'Sector', 'Industry', '52 Week Low', '52 Week High',\n",
       "       'All Time Low', 'All Time High', 'Market CapCR', '1-Year Return',\n",
       "       'Price to Earnings', 'Price to Book', 'Earning Per Share', 'Ticker',\n",
       "       '5Y Historical Revenue Growth%', 'Promoter Holding%',\n",
       "       'Pledged Promoter Holdings', 'Rating agency with buy reco',\n",
       "       'Volatility', 'Total Debt', 'Free Cash Flow', 'Total Revenue'],\n",
       "      dtype='object')"
      ]
     },
     "execution_count": 5,
     "metadata": {},
     "output_type": "execute_result"
    }
   ],
   "source": [
    "df3.columns"
   ]
  },
  {
   "cell_type": "code",
   "execution_count": 6,
   "id": "d68a29bf",
   "metadata": {},
   "outputs": [],
   "source": [
    "df3.to_excel(\"Merged_file.xlsx\",index=False)"
   ]
  },
  {
   "cell_type": "code",
   "execution_count": null,
   "id": "18e070ae",
   "metadata": {},
   "outputs": [],
   "source": []
  }
 ],
 "metadata": {
  "kernelspec": {
   "display_name": "Python 3 (ipykernel)",
   "language": "python",
   "name": "python3"
  },
  "language_info": {
   "codemirror_mode": {
    "name": "ipython",
    "version": 3
   },
   "file_extension": ".py",
   "mimetype": "text/x-python",
   "name": "python",
   "nbconvert_exporter": "python",
   "pygments_lexer": "ipython3",
   "version": "3.9.7"
  }
 },
 "nbformat": 4,
 "nbformat_minor": 5
}
