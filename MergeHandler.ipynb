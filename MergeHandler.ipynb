{
 "cells": [
  {
   "cell_type": "code",
   "execution_count": 1,
   "id": "ccd17678",
   "metadata": {},
   "outputs": [],
   "source": [
    "import pandas as pd\n",
    "import numpy as np\n",
    "import matplotlib as plot\n",
    "import datetime\n",
    "import openpyxl"
   ]
  },
  {
   "cell_type": "code",
   "execution_count": 2,
   "id": "e179ef04",
   "metadata": {},
   "outputs": [],
   "source": [
    "# Load Data Frame 1 with the Seed Sheet\n",
    "df_SeedSheet = pd.read_excel(\"Indian Stocks Dump.xlsx\", \"Seed Stock Sheet\")\n",
    "# Load Data Frame 2 with data from Web ( Twitter & MoneyControl)\n",
    "df_WebData = pd.read_excel(\"Indian Stocks Dump.xlsx\", \"Web & Social Data\")\n",
    "# Load Data Frame 3 with Nifty Data ( NSE1)\n",
    "df_Nifty50Stocks = pd.read_excel(\"Indian Stocks Dump.xlsx\", \"Nifty50\")\n",
    "# Load Data Frame 4 with additional NSE Stock Parameters\n",
    "df_AdditionalData = pd.read_excel(\"Indian Stocks Dump.xlsx\", \"Additional Stock Metrics\")\n",
    "# Load Data Frame 5 with additional NSE ISIN\n",
    "df_NseISIN = pd.read_csv(\"EQUITY_L.csv\")"
   ]
  },
  {
   "cell_type": "code",
   "execution_count": 3,
   "id": "5ca1931a",
   "metadata": {},
   "outputs": [],
   "source": [
    "# Merge the Web Data - df_WebData into the main Seed sheet\n",
    "df_mergedWebData = pd.merge(df_SeedSheet, df_WebData[\n",
    "    ['Company',\n",
    "     'Moneycontrol Link',\n",
    "     'Website',\n",
    "     'Email',\n",
    "     'Twitter Link',\n",
    "     'Twitter Handle',\n",
    "     'Twitter Followers',\n",
    "     'Twitter Posts',\n",
    "     'Twitter Created Date',\n",
    "     'Twitter Account Age (Years)']],  on = 'Company', how = 'left')"
   ]
  },
  {
   "cell_type": "code",
   "execution_count": 4,
   "id": "ab95f85f",
   "metadata": {},
   "outputs": [],
   "source": [
    "# Map the obsolete ISIN with latest ISIN\n",
    "key_list = list(df_mergedWebData[~df_mergedWebData['NSE code'].isnull()]['NSE code'])\n",
    "dict_lookup = dict_lookup = dict(zip(df_NseISIN['SYMBOL'], df_NseISIN['ISIN']))\n",
    "df_mergedWebData['ISIN'] = df_mergedWebData['NSE code'].map(dict_lookup).fillna(df_mergedWebData['ISIN'])\n"
   ]
  },
  {
   "cell_type": "code",
   "execution_count": 5,
   "id": "4fc8ead6",
   "metadata": {},
   "outputs": [
    {
     "name": "stderr",
     "output_type": "stream",
     "text": [
      "C:\\Users\\amshuk\\AppData\\Local\\Temp/ipykernel_23744/3263194364.py:3: FutureWarning: In a future version of pandas all arguments of DataFrame.drop except for the argument 'labels' will be keyword-only\n",
      "  df_mergedWebData.drop(list_IndexToRemove, 0, inplace = True)\n"
     ]
    }
   ],
   "source": [
    "# Drop NaN ISIN values from the Merged Sheet Data\n",
    "list_IndexToRemove = df_mergedWebData.index[df_mergedWebData['ISIN'].isna()]\n",
    "df_mergedWebData.drop(list_IndexToRemove, 0, inplace = True)"
   ]
  },
  {
   "cell_type": "code",
   "execution_count": 6,
   "id": "a2e581b0",
   "metadata": {},
   "outputs": [],
   "source": [
    "# Cast Ticker & ISIN to String column types\n",
    "df_AdditionalData = df_AdditionalData.astype({'Ticker':'string', 'ISIN':'string'})"
   ]
  },
  {
   "cell_type": "code",
   "execution_count": 7,
   "id": "23121d44",
   "metadata": {},
   "outputs": [
    {
     "name": "stderr",
     "output_type": "stream",
     "text": [
      "C:\\Users\\amshuk\\AppData\\Local\\Temp/ipykernel_23744/177159638.py:5: FutureWarning: In a future version of pandas all arguments of DataFrame.drop except for the argument 'labels' will be keyword-only\n",
      "  df_AdditionalData.drop(list_IndexToRemove_NA, 0, inplace = True)\n"
     ]
    }
   ],
   "source": [
    "# Drop duplicate Tickers / ISIN from the Additional Sheet \n",
    "df_AdditionalData.drop_duplicates(subset = ['ISIN'], keep = 'first', inplace = True )\n",
    "# Drop NaN ISIN from the Additional Sheet\n",
    "list_IndexToRemove_NA = df_AdditionalData.index[df_AdditionalData['ISIN'].isna()]\n",
    "df_AdditionalData.drop(list_IndexToRemove_NA, 0, inplace = True)"
   ]
  },
  {
   "cell_type": "code",
   "execution_count": 8,
   "id": "a59d2e03",
   "metadata": {},
   "outputs": [
    {
     "name": "stderr",
     "output_type": "stream",
     "text": [
      "C:\\Users\\amshuk\\AppData\\Local\\Temp/ipykernel_23744/3716392637.py:3: FutureWarning: In a future version of pandas all arguments of DataFrame.drop except for the argument 'labels' will be keyword-only\n",
      "  df_AdditionalData.drop(list_IndexOfNonStocks, 0, inplace = True)\n"
     ]
    }
   ],
   "source": [
    "# Remove the Funds & ETF data ( starts with INF***** instead of INE*** )from the Additional Data Sheet\n",
    "list_IndexOfNonStocks = df_AdditionalData.index[~df_AdditionalData['ISIN'].str.startswith('INE')]\n",
    "df_AdditionalData.drop(list_IndexOfNonStocks, 0, inplace = True)"
   ]
  },
  {
   "cell_type": "code",
   "execution_count": 9,
   "id": "106de18a",
   "metadata": {},
   "outputs": [],
   "source": [
    "# Merge the Nifty50 - df_Nifty50Stocks into the merged web Sheet\n",
    "df_mergedWebData = pd.merge(df_mergedWebData, df_Nifty50Stocks[\n",
    "    ['ISIN',\n",
    "     'Nifty 50 Stock']],  on = 'ISIN', how = 'left')"
   ]
  },
  {
   "cell_type": "code",
   "execution_count": 10,
   "id": "f2105d0b",
   "metadata": {},
   "outputs": [],
   "source": [
    "# Merge the Additional metrics data with the merged data frame ( seed and Web)\n",
    "df_WebAndMoreData = pd.merge(df_mergedWebData, df_AdditionalData[\n",
    "    ['ISIN',\n",
    "     'Ticker',\n",
    "     '5Y Avg ROE',\n",
    "     '5Y Revenue Growth',\n",
    "     'Promoter Holding',\n",
    "     'No. of Shareholders',\n",
    "     'Pledged Promoter Holdings',\n",
    "     'Rating agency Buy Reco',\n",
    "     'Volatility', \n",
    "     'Total Debt']], on = 'ISIN', how = 'outer', indicator='true')"
   ]
  },
  {
   "cell_type": "code",
   "execution_count": 11,
   "id": "99630efc",
   "metadata": {},
   "outputs": [
    {
     "name": "stderr",
     "output_type": "stream",
     "text": [
      "C:\\Users\\amshuk\\Anaconda3\\lib\\site-packages\\xlsxwriter\\worksheet.py:1168: UserWarning: Ignoring URL 'https://twitter.com/abbottnews,https://www.facebook.com/AbbottCareers,http://www.linkedin.com/company/1612,www.youtube.com/user/,http://abbvie.com,http://www.computershare.com/investor,http://www.computershare.com/us/Pages/default.aspx,http://www.senate.gov/legislative/Public_Disclosure/LDA_reports.htm,http://disclosures.house.gov/ld/ldsearch.aspx,http://online.barrons.com/article/SB50001424052748704836204578360522421954096.html' with link or location/anchor > 2079 characters since it exceeds Excel's limit for URLS\n",
      "  warn(\"Ignoring URL '%s' with link or location/anchor > %d \"\n"
     ]
    }
   ],
   "source": [
    "df_WebAndMoreData.to_excel(\"Merged Social & Additional Data.xlsx\")"
   ]
  },
  {
   "cell_type": "code",
   "execution_count": 12,
   "id": "b2919b51",
   "metadata": {},
   "outputs": [
    {
     "name": "stderr",
     "output_type": "stream",
     "text": [
      "C:\\Users\\amshuk\\AppData\\Local\\Temp/ipykernel_23744/383497247.py:3: FutureWarning: In a future version of pandas all arguments of DataFrame.drop except for the argument 'labels' will be keyword-only\n",
      "  df_WebAndMoreData.drop(List_indexOfInactiveStocks, 0, inplace = True)\n"
     ]
    }
   ],
   "source": [
    "# Cleanup Stocks that are not actively traded. These are the stocks that were not found in the Seed Sheet\n",
    "List_indexOfInactiveStocks = df_WebAndMoreData.index[df_WebAndMoreData['Company'].isnull()]\n",
    "df_WebAndMoreData.drop(List_indexOfInactiveStocks, 0, inplace = True)"
   ]
  },
  {
   "cell_type": "code",
   "execution_count": 13,
   "id": "6e0f9908",
   "metadata": {},
   "outputs": [
    {
     "name": "stderr",
     "output_type": "stream",
     "text": [
      "C:\\Users\\amshuk\\AppData\\Local\\Temp/ipykernel_23744/2111824507.py:6: FutureWarning: In a future version of pandas all arguments of DataFrame.drop except for the argument 'labels' will be keyword-only\n",
      "  df_WebAndMoreData.drop(List_indexOfStksWithMissingBookVal, 0, inplace = True)\n"
     ]
    }
   ],
   "source": [
    "# Remove the Stocks for whom the Earnings & Book Values is not available as it would be difficult to evaluate such companies\n",
    "List_indexOfStksWithMissingBookVal = df_WebAndMoreData.index[(df_WebAndMoreData['Earning Per Share'].isnull())\n",
    "                                                            | (df_WebAndMoreData['Book Value Per Share'].isnull())\n",
    "                                                            | (df_WebAndMoreData['Cash Flow Per Share'].isnull())]\n",
    "\n",
    "df_WebAndMoreData.drop(List_indexOfStksWithMissingBookVal, 0, inplace = True)"
   ]
  },
  {
   "cell_type": "code",
   "execution_count": 15,
   "id": "c5f7f721",
   "metadata": {},
   "outputs": [],
   "source": [
    "# Fill in the missing values of Price to Earning given that the Price and EPS info is already present\n",
    "df_WebAndMoreData['Price to Earnings'] = df_WebAndMoreData['Price'] / df_WebAndMoreData['Earning Per Share']"
   ]
  },
  {
   "cell_type": "code",
   "execution_count": 21,
   "id": "6589039b",
   "metadata": {},
   "outputs": [
    {
     "name": "stderr",
     "output_type": "stream",
     "text": [
      "C:\\Users\\amshuk\\Anaconda3\\lib\\site-packages\\xlsxwriter\\worksheet.py:1168: UserWarning: Ignoring URL 'https://twitter.com/abbottnews,https://www.facebook.com/AbbottCareers,http://www.linkedin.com/company/1612,www.youtube.com/user/,http://abbvie.com,http://www.computershare.com/investor,http://www.computershare.com/us/Pages/default.aspx,http://www.senate.gov/legislative/Public_Disclosure/LDA_reports.htm,http://disclosures.house.gov/ld/ldsearch.aspx,http://online.barrons.com/article/SB50001424052748704836204578360522421954096.html' with link or location/anchor > 2079 characters since it exceeds Excel's limit for URLS\n",
      "  warn(\"Ignoring URL '%s' with link or location/anchor > %d \"\n"
     ]
    }
   ],
   "source": [
    "df_WebAndMoreData.to_excel(\"Merged Social & Additional Data.xlsx\")"
   ]
  },
  {
   "cell_type": "code",
   "execution_count": 20,
   "id": "fa14cc59",
   "metadata": {},
   "outputs": [],
   "source": [
    "df_WebAndMoreData.sort_values('Market Cap(Cr)', ascending = True).to_json(\"StockRefinedData.json\", orient = 'index')"
   ]
  }
 ],
 "metadata": {
  "kernelspec": {
   "display_name": "Python 3 (ipykernel)",
   "language": "python",
   "name": "python3"
  },
  "language_info": {
   "codemirror_mode": {
    "name": "ipython",
    "version": 3
   },
   "file_extension": ".py",
   "mimetype": "text/x-python",
   "name": "python",
   "nbconvert_exporter": "python",
   "pygments_lexer": "ipython3",
   "version": "3.9.7"
  }
 },
 "nbformat": 4,
 "nbformat_minor": 5
}
