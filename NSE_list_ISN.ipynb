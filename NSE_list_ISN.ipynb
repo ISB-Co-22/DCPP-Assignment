{
 "cells": [
  {
   "cell_type": "code",
   "execution_count": 1,
   "id": "606ac1a2",
   "metadata": {},
   "outputs": [],
   "source": [
    "#using this code we will get all listed stocks with market cap\n",
    "import re\n",
    "import requests\n",
    "from bs4 import BeautifulSoup"
   ]
  },
  {
   "cell_type": "code",
   "execution_count": null,
   "id": "558f756a",
   "metadata": {},
   "outputs": [],
   "source": [
    "base_url = \"https://www1.nseindia.com\"\n",
    "data = requests.get(f\"{base_url}/corporates/content/securities_info.htm\")\n",
    "parsed = BeautifulSoup(data.text, \"html.parser\")\n",
    "link = parsed.find(\"a\", href=re.compile(\"EQUITY_L.csv\"))\n",
    "path = link[\"href\"]\n",
    "print(f\"{base_url}{path}\")"
   ]
  },
  {
   "cell_type": "code",
   "execution_count": null,
   "id": "21a48979",
   "metadata": {},
   "outputs": [],
   "source": []
  },
  {
   "cell_type": "code",
   "execution_count": null,
   "id": "a0e7c718",
   "metadata": {},
   "outputs": [],
   "source": []
  }
 ],
 "metadata": {
  "kernelspec": {
   "display_name": "Python 3 (ipykernel)",
   "language": "python",
   "name": "python3"
  },
  "language_info": {
   "codemirror_mode": {
    "name": "ipython",
    "version": 3
   },
   "file_extension": ".py",
   "mimetype": "text/x-python",
   "name": "python",
   "nbconvert_exporter": "python",
   "pygments_lexer": "ipython3",
   "version": "3.9.7"
  }
 },
 "nbformat": 4,
 "nbformat_minor": 5
}
